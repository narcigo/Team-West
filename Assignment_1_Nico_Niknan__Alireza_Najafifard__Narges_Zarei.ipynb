{
  "nbformat": 4,
  "nbformat_minor": 0,
  "metadata": {
    "colab": {
      "name": "Assignment_1_Nico_Niknan__Alireza_Najafifard__Narges_Zarei",
      "provenance": [],
      "authorship_tag": "ABX9TyMVfcGzu1KLVGRJnisrOHBb",
      "include_colab_link": true
    },
    "kernelspec": {
      "name": "python3",
      "display_name": "Python 3"
    },
    "language_info": {
      "name": "python"
    }
  },
  "cells": [
    {
      "cell_type": "markdown",
      "metadata": {
        "id": "view-in-github",
        "colab_type": "text"
      },
      "source": [
        "<a href=\"https://colab.research.google.com/github/narcigo/repository-1/blob/main/Assignment_1_Nico_Niknan__Alireza_Najafifard__Narges_Zarei.ipynb\" target=\"_parent\"><img src=\"https://colab.research.google.com/assets/colab-badge.svg\" alt=\"Open In Colab\"/></a>"
      ]
    },
    {
      "cell_type": "markdown",
      "metadata": {
        "id": "HLs6CfzZJKLJ"
      },
      "source": [
        "Q1"
      ]
    },
    {
      "cell_type": "code",
      "metadata": {
        "colab": {
          "base_uri": "https://localhost:8080/"
        },
        "id": "yohev2u2IcUe",
        "outputId": "e1ad2924-c897-45c3-864b-f00f9a4f860e"
      },
      "source": [
        "import numpy as np\n",
        "a = [1,2,3,4]\n",
        "c = [2,3,4]\n",
        "e = [2,3,4]\n",
        "v = [1,2,3,4]\n",
        "n = 4\n",
        "f = np.array([])\n",
        "def multiple(n):\n",
        "  global x\n",
        "  x = [ e[n-2] * v[0] + a[n-1] * v[1] + c[n-1] * v[2] ]\n",
        "for i in range(1,n+1):\n",
        "  if i == 1:\n",
        "    x = [ a[0] * v[0] + c[0] * v[1] ]\n",
        "  elif i == n:\n",
        "    x = [ e[n-2] * v[0] + a[n-1] * v[2] ]\n",
        "  else:\n",
        "    multiple(i)\n",
        "print(np.append(f,x))"
      ],
      "execution_count": null,
      "outputs": [
        {
          "output_type": "stream",
          "text": [
            "[16.]\n"
          ],
          "name": "stdout"
        }
      ]
    },
    {
      "cell_type": "code",
      "metadata": {
        "colab": {
          "base_uri": "https://localhost:8080/",
          "height": 231
        },
        "id": "WpGoUJqdJQh5",
        "outputId": "74147815-cf39-48eb-c5b9-67d015956a82"
      },
      "source": [
        "import numpy as np\n",
        "a = np.array([1,2,3,4])\n",
        "c = np.array([2,3,4])\n",
        "e = np.array([2,3,4])\n",
        "h = 4\n",
        "alpha = np.zeros([0 for x in range(h)])\n",
        "beta = np.zeros([0 for x in range(h-1)])\n",
        "alpha[0] = a[0]\n",
        "def betaC(n,alpha,e):\n",
        "  x = np.array([e[n] / alpha[n]])\n",
        "  beta = np.append(beta,x)\n",
        "  return beta\n",
        "def alphaC (n,a,beta,e):\n",
        "  y = np.array([a[n]-beta[n-1]*c[n-1]])\n",
        "  alpha = np.append(alpha,y)\n",
        "  return alpha\n",
        "for i in range(0,h):\n",
        "  if i == 0:\n",
        "    print(alpha)\n",
        "  else:\n",
        "    betaC(i,alpha,e)\n",
        "    print(beta)\n",
        "    alphaC(i,a,beta,e)\n",
        "    print(alpha)\n",
        "\n",
        "print(betaC)"
      ],
      "execution_count": 5,
      "outputs": [
        {
          "output_type": "error",
          "ename": "IndexError",
          "evalue": "ignored",
          "traceback": [
            "\u001b[0;31m---------------------------------------------------------------------------\u001b[0m",
            "\u001b[0;31mIndexError\u001b[0m                                Traceback (most recent call last)",
            "\u001b[0;32m<ipython-input-5-f77b8e9edf86>\u001b[0m in \u001b[0;36m<module>\u001b[0;34m()\u001b[0m\n\u001b[1;32m      6\u001b[0m \u001b[0malpha\u001b[0m \u001b[0;34m=\u001b[0m \u001b[0mnp\u001b[0m\u001b[0;34m.\u001b[0m\u001b[0mzeros\u001b[0m\u001b[0;34m(\u001b[0m\u001b[0;34m[\u001b[0m\u001b[0;36m0\u001b[0m \u001b[0;32mfor\u001b[0m \u001b[0mx\u001b[0m \u001b[0;32min\u001b[0m \u001b[0mrange\u001b[0m\u001b[0;34m(\u001b[0m\u001b[0mh\u001b[0m\u001b[0;34m)\u001b[0m\u001b[0;34m]\u001b[0m\u001b[0;34m)\u001b[0m\u001b[0;34m\u001b[0m\u001b[0;34m\u001b[0m\u001b[0m\n\u001b[1;32m      7\u001b[0m \u001b[0mbeta\u001b[0m \u001b[0;34m=\u001b[0m \u001b[0mnp\u001b[0m\u001b[0;34m.\u001b[0m\u001b[0mzeros\u001b[0m\u001b[0;34m(\u001b[0m\u001b[0;34m[\u001b[0m\u001b[0;36m0\u001b[0m \u001b[0;32mfor\u001b[0m \u001b[0mx\u001b[0m \u001b[0;32min\u001b[0m \u001b[0mrange\u001b[0m\u001b[0;34m(\u001b[0m\u001b[0mh\u001b[0m\u001b[0;34m-\u001b[0m\u001b[0;36m1\u001b[0m\u001b[0;34m)\u001b[0m\u001b[0;34m]\u001b[0m\u001b[0;34m)\u001b[0m\u001b[0;34m\u001b[0m\u001b[0;34m\u001b[0m\u001b[0m\n\u001b[0;32m----> 8\u001b[0;31m \u001b[0malpha\u001b[0m\u001b[0;34m[\u001b[0m\u001b[0;36m0\u001b[0m\u001b[0;34m]\u001b[0m \u001b[0;34m=\u001b[0m \u001b[0ma\u001b[0m\u001b[0;34m[\u001b[0m\u001b[0;36m0\u001b[0m\u001b[0;34m]\u001b[0m\u001b[0;34m\u001b[0m\u001b[0;34m\u001b[0m\u001b[0m\n\u001b[0m\u001b[1;32m      9\u001b[0m \u001b[0;32mdef\u001b[0m \u001b[0mbetaC\u001b[0m\u001b[0;34m(\u001b[0m\u001b[0mn\u001b[0m\u001b[0;34m,\u001b[0m\u001b[0malpha\u001b[0m\u001b[0;34m,\u001b[0m\u001b[0me\u001b[0m\u001b[0;34m)\u001b[0m\u001b[0;34m:\u001b[0m\u001b[0;34m\u001b[0m\u001b[0;34m\u001b[0m\u001b[0m\n\u001b[1;32m     10\u001b[0m   \u001b[0mx\u001b[0m \u001b[0;34m=\u001b[0m \u001b[0mnp\u001b[0m\u001b[0;34m.\u001b[0m\u001b[0marray\u001b[0m\u001b[0;34m(\u001b[0m\u001b[0;34m[\u001b[0m\u001b[0me\u001b[0m\u001b[0;34m[\u001b[0m\u001b[0mn\u001b[0m\u001b[0;34m]\u001b[0m \u001b[0;34m/\u001b[0m \u001b[0malpha\u001b[0m\u001b[0;34m[\u001b[0m\u001b[0mn\u001b[0m\u001b[0;34m]\u001b[0m\u001b[0;34m]\u001b[0m\u001b[0;34m)\u001b[0m\u001b[0;34m\u001b[0m\u001b[0;34m\u001b[0m\u001b[0m\n",
            "\u001b[0;31mIndexError\u001b[0m: index 0 is out of bounds for axis 0 with size 0"
          ]
        }
      ]
    },
    {
      "cell_type": "code",
      "metadata": {
        "id": "UR7dSUOBJHjJ",
        "colab": {
          "base_uri": "https://localhost:8080/"
        },
        "outputId": "0ed5cab7-f125-45ad-c98a-ce32c7d500f8"
      },
      "source": [
        "import numpy as np\n",
        "import math as math\n",
        "a = [1,2,3,4]\n",
        "c = [2,3,4]\n",
        "n = len(a)\n",
        "alpha = [0 for x in range(n)]\n",
        "beta = [0 for x in range(n-1) ]\n",
        "for i in range(3,-1,-1):\n",
        "  if i == 3:\n",
        "    alpha[i] = math.sqrt(a[i-1])\n",
        "  else:\n",
        "    alpha[i] = math.sqrt(a[i-1] - beta[i]**2)\n",
        "    beta[i] = c[i] / alpha[i+1]\n",
        "print(alpha)\n",
        "print(beta)"
      ],
      "execution_count": 2,
      "outputs": [
        {
          "output_type": "stream",
          "text": [
            "[2.0, 1.0, 1.4142135623730951, 1.7320508075688772]\n",
            "[2.0, 2.1213203435596424, 2.3094010767585034]\n"
          ],
          "name": "stdout"
        }
      ]
    }
  ]
}